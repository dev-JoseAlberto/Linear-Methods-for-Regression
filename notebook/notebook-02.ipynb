{
 "cells": [
  {
   "cell_type": "markdown",
   "metadata": {},
   "source": [
    "# Ridge Regression \n",
    "\n",
    "When there are many  correlated variables in a linear regression model, their\n",
    "coefficients can become poorly determined and exhibit high variance.\n",
    "A wildly large positive coefficient on one variable can be canceled by similarly\n",
    "large negative coefficient on its correlated cousin.\n",
    "\n",
    "Ridge regression is a variant of least squares regression and is oftentimes used when multicollinearity \n",
    "cases are identified. The traditional ordinary least squares (OLS) regression produces unbiased \n",
    "estimates for the regression coefficients, however, if you introduce the confounding issue of highly \n",
    "correlated explanatory variables, your resulting OLS parameter estimates end up with large variance. \n",
    "Therefore, it could be beneficial to utilize a technique such as ridge regression in order \n",
    "to ensure a smaller variance in resulting parameter estimates. \n",
    "This method is more continuos, and don't suffer as much from high variability."
   ]
  },
  {
   "cell_type": "code",
   "execution_count": 1,
   "metadata": {},
   "outputs": [],
   "source": [
    "import numpy as np\n",
    "import pandas as pd\n",
    "import matplotlib.pyplot as plt\n",
    "%matplotlib inline\n",
    "from sklearn.linear_model import Ridge\n",
    "from sklearn.model_selection import train_test_split\n",
    "from sklearn.metrics import mean_squared_error, r2_score"
   ]
  },
  {
   "cell_type": "code",
   "execution_count": 2,
   "metadata": {},
   "outputs": [
    {
     "data": {
      "text/html": [
       "<div>\n",
       "<style scoped>\n",
       "    .dataframe tbody tr th:only-of-type {\n",
       "        vertical-align: middle;\n",
       "    }\n",
       "\n",
       "    .dataframe tbody tr th {\n",
       "        vertical-align: top;\n",
       "    }\n",
       "\n",
       "    .dataframe thead th {\n",
       "        text-align: right;\n",
       "    }\n",
       "</style>\n",
       "<table border=\"1\" class=\"dataframe\">\n",
       "  <thead>\n",
       "    <tr style=\"text-align: right;\">\n",
       "      <th></th>\n",
       "      <th>ILLUM</th>\n",
       "      <th>HUMID</th>\n",
       "      <th>CO2</th>\n",
       "      <th>SOUND</th>\n",
       "      <th>TEMP</th>\n",
       "      <th>RYTHM</th>\n",
       "      <th>ID</th>\n",
       "    </tr>\n",
       "  </thead>\n",
       "  <tbody>\n",
       "    <tr>\n",
       "      <th>5949</th>\n",
       "      <td>498.64</td>\n",
       "      <td>70.50</td>\n",
       "      <td>508.05</td>\n",
       "      <td>19.37</td>\n",
       "      <td>18.06</td>\n",
       "      <td>78.10</td>\n",
       "      <td>1848</td>\n",
       "    </tr>\n",
       "    <tr>\n",
       "      <th>6120</th>\n",
       "      <td>596.74</td>\n",
       "      <td>62.56</td>\n",
       "      <td>494.28</td>\n",
       "      <td>21.08</td>\n",
       "      <td>21.02</td>\n",
       "      <td>80.35</td>\n",
       "      <td>2019</td>\n",
       "    </tr>\n",
       "    <tr>\n",
       "      <th>1006</th>\n",
       "      <td>369.65</td>\n",
       "      <td>74.10</td>\n",
       "      <td>485.89</td>\n",
       "      <td>35.74</td>\n",
       "      <td>16.94</td>\n",
       "      <td>74.57</td>\n",
       "      <td>105</td>\n",
       "    </tr>\n",
       "    <tr>\n",
       "      <th>6720</th>\n",
       "      <td>519.18</td>\n",
       "      <td>64.21</td>\n",
       "      <td>498.21</td>\n",
       "      <td>24.75</td>\n",
       "      <td>22.25</td>\n",
       "      <td>77.44</td>\n",
       "      <td>2619</td>\n",
       "    </tr>\n",
       "    <tr>\n",
       "      <th>641</th>\n",
       "      <td>370.92</td>\n",
       "      <td>70.25</td>\n",
       "      <td>502.62</td>\n",
       "      <td>32.09</td>\n",
       "      <td>18.80</td>\n",
       "      <td>93.25</td>\n",
       "      <td>2940</td>\n",
       "    </tr>\n",
       "  </tbody>\n",
       "</table>\n",
       "</div>"
      ],
      "text/plain": [
       "       ILLUM  HUMID     CO2  SOUND   TEMP  RYTHM    ID\n",
       "5949  498.64  70.50  508.05  19.37  18.06  78.10  1848\n",
       "6120  596.74  62.56  494.28  21.08  21.02  80.35  2019\n",
       "1006  369.65  74.10  485.89  35.74  16.94  74.57   105\n",
       "6720  519.18  64.21  498.21  24.75  22.25  77.44  2619\n",
       "641   370.92  70.25  502.62  32.09  18.80  93.25  2940"
      ]
     },
     "execution_count": 2,
     "metadata": {},
     "output_type": "execute_result"
    }
   ],
   "source": [
    "df_heart_rate = pd.read_csv(\"../data/dataset.csv\")\n",
    "df_heart_rate.sample(5)"
   ]
  },
  {
   "cell_type": "code",
   "execution_count": 3,
   "metadata": {},
   "outputs": [],
   "source": [
    "df02_heart_rate = df_heart_rate[[\"ID\",\"ILLUM\",\"HUMID\",\"CO2\",\"SOUND\",\"TEMP\",\"RYTHM\"]]"
   ]
  },
  {
   "cell_type": "code",
   "execution_count": 4,
   "metadata": {},
   "outputs": [],
   "source": [
    "df03_heart_rate = df02_heart_rate.drop_duplicates()"
   ]
  },
  {
   "cell_type": "code",
   "execution_count": 5,
   "metadata": {},
   "outputs": [],
   "source": [
    "X = df03_heart_rate[[\"ILLUM\",\"HUMID\",\"CO2\",\"SOUND\",\"TEMP\"]]\n",
    "y = df03_heart_rate[\"RYTHM\"]"
   ]
  },
  {
   "cell_type": "code",
   "execution_count": 6,
   "metadata": {},
   "outputs": [],
   "source": [
    "#Split data 70%-30% into training set and test set\n",
    "X_train, X_test, y_train, y_test = train_test_split(X, y, test_size=0.30, random_state=0)"
   ]
  },
  {
   "cell_type": "code",
   "execution_count": 7,
   "metadata": {},
   "outputs": [
    {
     "data": {
      "text/plain": [
       "Ridge()"
      ]
     },
     "execution_count": 7,
     "metadata": {},
     "output_type": "execute_result"
    }
   ],
   "source": [
    "clf = Ridge(alpha=1.0)\n",
    "clf.fit(X_train, y_train)"
   ]
  },
  {
   "cell_type": "code",
   "execution_count": 8,
   "metadata": {},
   "outputs": [
    {
     "name": "stdout",
     "output_type": "stream",
     "text": [
      "MSE: 37.18011687998504\n",
      "RMSE: 6.097550071953902\n",
      "R2: 0.17328468166469213\n"
     ]
    }
   ],
   "source": [
    "predictions = clf.predict(X_test)\n",
    "mse = mean_squared_error(y_test, predictions)\n",
    "print(\"MSE:\", mse)\n",
    "rmse = np.sqrt(mse)\n",
    "print(\"RMSE:\", rmse)\n",
    "r2 = r2_score(y_test, predictions)\n",
    "print(\"R2:\", r2)"
   ]
  },
  {
   "cell_type": "code",
   "execution_count": 9,
   "metadata": {},
   "outputs": [
    {
     "data": {
      "image/png": "[encoded data removed]",
      "text/plain": [
       "<Figure size 432x288 with 1 Axes>"
      ]
     },
     "metadata": {
      "needs_background": "light"
     },
     "output_type": "display_data"
    }
   ],
   "source": [
    "plt.scatter(y_test, predictions)\n",
    "plt.xlabel('Actual Labels')\n",
    "plt.ylabel('Predicted Labels')\n",
    "plt.title('Heart Rate Predictions')\n",
    "z = np.polyfit(y_test, predictions, 1)\n",
    "p = np.poly1d(z)\n",
    "plt.plot(y_test,p(y_test), color='#ffb84d')\n",
    "plt.show()"
   ]
  },
  {
   "cell_type": "markdown",
   "metadata": {},
   "source": [
    "Reference: https://www.sas.com/content/dam/SAS/support/en/sas-global-forum-proceedings/2018/2825-2018.pdf"
   ]
  }
 ],
 "metadata": {
  "interpreter": {
   "hash": "593d129c5a50a60d674c268db564313bb9d7f4dfc6010f2a871dd1ba6501565f"
  },
  "kernelspec": {
   "display_name": "Python 3.8.10 64-bit ('.venv': venv)",
   "language": "python",
   "name": "python3"
  },
  "language_info": {
   "codemirror_mode": {
    "name": "ipython",
    "version": 3
   },
   "file_extension": ".py",
   "mimetype": "text/x-python",
   "name": "python",
   "nbconvert_exporter": "python",
   "pygments_lexer": "ipython3",
   "version": "3.9.6"
  },
  "orig_nbformat": 4
 },
 "nbformat": 4,
 "nbformat_minor": 2
}
