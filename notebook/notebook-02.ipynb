{
 "cells": [
  {
   "cell_type": "markdown",
   "metadata": {},
   "source": [
    "# Ridge Regression \n",
    "\n",
    "When there are many  correlated variables in a linear regression model, their\n",
    "coefficients can become poorly determined and exhibit high variance.\n",
    "A wildly large positive coefficient on one variable can be canceled by similarly\n",
    "large negative coefficient on its correlated cousin.\n",
    "\n",
    "Ridge regression is a variant of least squares regression and is oftentimes used when multicollinearity \n",
    "cases are identified. The traditional ordinary least squares (OLS) regression produces unbiased \n",
    "estimates for the regression coefficients, however, if you introduce the confounding issue of highly \n",
    "correlated explanatory variables, your resulting OLS parameter estimates end up with large variance. \n",
    "Therefore, it could be beneficial to utilize a technique such as ridge regression in order \n",
    "to ensure a smaller variance in resulting parameter estimates. \n",
    "This method is more continuos, and don't suffer as much from high variability.\n",
    "\n",
    "The dataset used in this notebook is the source file : https://github.com/maratonadev/desafio-2-2021"
   ]
  },
  {
   "cell_type": "code",
   "execution_count": 1,
   "metadata": {},
   "outputs": [],
   "source": [
    "import numpy as np\n",
    "import pandas as pd\n",
    "import matplotlib.pyplot as plt\n",
    "%matplotlib inline\n",
    "from sklearn.linear_model import Ridge\n",
    "from sklearn.model_selection import train_test_split\n",
    "from sklearn.metrics import mean_squared_error, r2_score"
   ]
  },
  {
   "cell_type": "code",
   "execution_count": 2,
   "metadata": {},
   "outputs": [
    {
     "data": {
      "text/html": [
       "<div>\n",
       "<style scoped>\n",
       "    .dataframe tbody tr th:only-of-type {\n",
       "        vertical-align: middle;\n",
       "    }\n",
       "\n",
       "    .dataframe tbody tr th {\n",
       "        vertical-align: top;\n",
       "    }\n",
       "\n",
       "    .dataframe thead th {\n",
       "        text-align: right;\n",
       "    }\n",
       "</style>\n",
       "<table border=\"1\" class=\"dataframe\">\n",
       "  <thead>\n",
       "    <tr style=\"text-align: right;\">\n",
       "      <th></th>\n",
       "      <th>ILLUM</th>\n",
       "      <th>HUMID</th>\n",
       "      <th>CO2</th>\n",
       "      <th>SOUND</th>\n",
       "      <th>TEMP</th>\n",
       "      <th>RYTHM</th>\n",
       "      <th>ID</th>\n",
       "    </tr>\n",
       "  </thead>\n",
       "  <tbody>\n",
       "    <tr>\n",
       "      <th>6457</th>\n",
       "      <td>402.21</td>\n",
       "      <td>74.53</td>\n",
       "      <td>487.85</td>\n",
       "      <td>14.26</td>\n",
       "      <td>20.97</td>\n",
       "      <td>85.63</td>\n",
       "      <td>2356</td>\n",
       "    </tr>\n",
       "    <tr>\n",
       "      <th>9976</th>\n",
       "      <td>439.89</td>\n",
       "      <td>66.67</td>\n",
       "      <td>430.01</td>\n",
       "      <td>39.41</td>\n",
       "      <td>20.17</td>\n",
       "      <td>78.21</td>\n",
       "      <td>2675</td>\n",
       "    </tr>\n",
       "    <tr>\n",
       "      <th>9445</th>\n",
       "      <td>464.29</td>\n",
       "      <td>65.26</td>\n",
       "      <td>472.08</td>\n",
       "      <td>25.56</td>\n",
       "      <td>18.17</td>\n",
       "      <td>76.16</td>\n",
       "      <td>2144</td>\n",
       "    </tr>\n",
       "    <tr>\n",
       "      <th>7287</th>\n",
       "      <td>474.22</td>\n",
       "      <td>66.95</td>\n",
       "      <td>438.53</td>\n",
       "      <td>22.96</td>\n",
       "      <td>20.08</td>\n",
       "      <td>87.60</td>\n",
       "      <td>3186</td>\n",
       "    </tr>\n",
       "    <tr>\n",
       "      <th>5223</th>\n",
       "      <td>496.72</td>\n",
       "      <td>72.40</td>\n",
       "      <td>458.70</td>\n",
       "      <td>27.26</td>\n",
       "      <td>20.73</td>\n",
       "      <td>69.24</td>\n",
       "      <td>1122</td>\n",
       "    </tr>\n",
       "  </tbody>\n",
       "</table>\n",
       "</div>"
      ],
      "text/plain": [
       "       ILLUM  HUMID     CO2  SOUND   TEMP  RYTHM    ID\n",
       "6457  402.21  74.53  487.85  14.26  20.97  85.63  2356\n",
       "9976  439.89  66.67  430.01  39.41  20.17  78.21  2675\n",
       "9445  464.29  65.26  472.08  25.56  18.17  76.16  2144\n",
       "7287  474.22  66.95  438.53  22.96  20.08  87.60  3186\n",
       "5223  496.72  72.40  458.70  27.26  20.73  69.24  1122"
      ]
     },
     "execution_count": 2,
     "metadata": {},
     "output_type": "execute_result"
    }
   ],
   "source": [
    "df_heart_rate = pd.read_csv(\"../data/dataset.csv\")\n",
    "df_heart_rate.sample(5)"
   ]
  },
  {
   "cell_type": "code",
   "execution_count": 3,
   "metadata": {},
   "outputs": [],
   "source": [
    "df02_heart_rate = df_heart_rate[[\"ID\",\"ILLUM\",\"HUMID\",\"CO2\",\"SOUND\",\"TEMP\",\"RYTHM\"]]"
   ]
  },
  {
   "cell_type": "code",
   "execution_count": 4,
   "metadata": {},
   "outputs": [],
   "source": [
    "df03_heart_rate = df02_heart_rate.drop_duplicates()"
   ]
  },
  {
   "cell_type": "code",
   "execution_count": 5,
   "metadata": {},
   "outputs": [],
   "source": [
    "X = df03_heart_rate[[\"ILLUM\",\"HUMID\",\"CO2\",\"SOUND\",\"TEMP\"]]\n",
    "y = df03_heart_rate[\"RYTHM\"]"
   ]
  },
  {
   "cell_type": "code",
   "execution_count": 6,
   "metadata": {},
   "outputs": [],
   "source": [
    "#Split data 70%-30% into training set and test set\n",
    "X_train, X_test, y_train, y_test = train_test_split(X, y, test_size=0.30, random_state=0)"
   ]
  },
  {
   "cell_type": "code",
   "execution_count": 7,
   "metadata": {},
   "outputs": [
    {
     "data": {
      "text/plain": [
       "Ridge()"
      ]
     },
     "execution_count": 7,
     "metadata": {},
     "output_type": "execute_result"
    }
   ],
   "source": [
    "clf = Ridge(alpha=1.0)\n",
    "clf.fit(X_train, y_train)"
   ]
  },
  {
   "cell_type": "code",
   "execution_count": 8,
   "metadata": {},
   "outputs": [
    {
     "name": "stdout",
     "output_type": "stream",
     "text": [
      "MSE: 37.18011687998504\n",
      "RMSE: 6.097550071953902\n",
      "R2: 0.17328468166469213\n"
     ]
    }
   ],
   "source": [
    "predictions = clf.predict(X_test)\n",
    "mse = mean_squared_error(y_test, predictions)\n",
    "print(\"MSE:\", mse)\n",
    "rmse = np.sqrt(mse)\n",
    "print(\"RMSE:\", rmse)\n",
    "r2 = r2_score(y_test, predictions)\n",
    "print(\"R2:\", r2)"
   ]
  },
  {
   "cell_type": "code",
   "execution_count": 9,
   "metadata": {},
   "outputs": [
    {
     "data": {
      "image/png": "[encoded data removed]",
      "text/plain": [
       "<Figure size 432x288 with 1 Axes>"
      ]
     },
     "metadata": {
      "needs_background": "light"
     },
     "output_type": "display_data"
    }
   ],
   "source": [
    "plt.scatter(y_test, predictions)\n",
    "plt.xlabel('Actual Labels')\n",
    "plt.ylabel('Predicted Labels')\n",
    "plt.title('Heart Rate Predictions')\n",
    "z = np.polyfit(y_test, predictions, 1)\n",
    "p = np.poly1d(z)\n",
    "plt.plot(y_test,p(y_test), color='#ff751a')\n",
    "plt.show()"
   ]
  },
  {
   "cell_type": "markdown",
   "metadata": {},
   "source": [
    "Reference: \n",
    "\n",
    "https://www.sas.com/content/dam/SAS/support/en/sas-global-forum-proceedings/2018/2825-2018.pdf"
   ]
  }
 ],
 "metadata": {
  "interpreter": {
   "hash": "593d129c5a50a60d674c268db564313bb9d7f4dfc6010f2a871dd1ba6501565f"
  },
  "kernelspec": {
   "display_name": "Python 3.8.10 64-bit ('.venv': venv)",
   "language": "python",
   "name": "python3"
  },
  "language_info": {
   "codemirror_mode": {
    "name": "ipython",
    "version": 3
   },
   "file_extension": ".py",
   "mimetype": "text/x-python",
   "name": "python",
   "nbconvert_exporter": "python",
   "pygments_lexer": "ipython3",
   "version": "3.8.10"
  },
  "orig_nbformat": 4
 },
 "nbformat": 4,
 "nbformat_minor": 2
}
